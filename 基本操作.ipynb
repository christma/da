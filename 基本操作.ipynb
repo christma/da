{
 "cells": [
  {
   "cell_type": "code",
   "execution_count": 2,
   "id": "c7bf30db",
   "metadata": {},
   "outputs": [],
   "source": [
    "# 3、变量的命名规则"
   ]
  },
  {
   "cell_type": "code",
   "execution_count": 3,
   "id": "220f57d5",
   "metadata": {},
   "outputs": [],
   "source": [
    "# 4、关键字"
   ]
  },
  {
   "cell_type": "code",
   "execution_count": 4,
   "id": "609303c4",
   "metadata": {},
   "outputs": [],
   "source": [
    "# 5、数据类型"
   ]
  },
  {
   "cell_type": "code",
   "execution_count": 9,
   "id": "c8cf2e79",
   "metadata": {},
   "outputs": [
    {
     "name": "stdout",
     "output_type": "stream",
     "text": [
      "1010\n"
     ]
    }
   ],
   "source": [
    "# 6、类型转化\n",
    "num1 = 10\n",
    "num2 = \"10\"\n",
    "\n",
    "num3 = str(num1) + num2\n",
    "print(num3)"
   ]
  },
  {
   "cell_type": "code",
   "execution_count": 13,
   "id": "beb53a44",
   "metadata": {},
   "outputs": [
    {
     "name": "stdout",
     "output_type": "stream",
     "text": [
      "abc,def\n"
     ]
    }
   ],
   "source": [
    "# 7、输出和输入\n",
    "\n",
    "str1 = 'abc'\n",
    "str2 = 'def'\n",
    "print(str1,str2,sep=',')"
   ]
  },
  {
   "cell_type": "code",
   "execution_count": 11,
   "id": "d4ca8d64",
   "metadata": {},
   "outputs": [],
   "source": [
    "# 8、格式化输出"
   ]
  },
  {
   "cell_type": "code",
   "execution_count": 1,
   "id": "1cd5882f",
   "metadata": {},
   "outputs": [],
   "source": [
    "# 9、算数运算符（拓展）"
   ]
  },
  {
   "cell_type": "code",
   "execution_count": null,
   "id": "1e9e8f1c",
   "metadata": {},
   "outputs": [],
   "source": [
    "###### 猜数字，猜五次，如果没猜中 输出答案，推出，如果猜中了，直接推出\n",
    "\n",
    "import random \n",
    "nums = 0\n",
    "ans = random.randint(0,9)\n",
    "print(ans)\n",
    "while nums < 5:\n",
    "    ip = int(input(\"请输入数字一个 0-9 的数字：\"))\n",
    "    if(ans != ip):\n",
    "        print(\"没有才对 请继续～～\")\n",
    "        nums = nums + 1\n",
    "    else:\n",
    "        print(\"恭喜您猜对了，答案就是：\",ans)\n"
   ]
  }
 ],
 "metadata": {
  "kernelspec": {
   "display_name": "Python 3 (ipykernel)",
   "language": "python",
   "name": "python3"
  },
  "language_info": {
   "codemirror_mode": {
    "name": "ipython",
    "version": 3
   },
   "file_extension": ".py",
   "mimetype": "text/x-python",
   "name": "python",
   "nbconvert_exporter": "python",
   "pygments_lexer": "ipython3",
   "version": "3.10.9"
  }
 },
 "nbformat": 4,
 "nbformat_minor": 5
}
