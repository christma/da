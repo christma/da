{
 "cells": [
  {
   "cell_type": "code",
   "execution_count": null,
   "metadata": {
    "collapsed": true,
    "ExecuteTime": {
     "start_time": "2023-04-24T17:48:50.248348Z",
     "end_time": "2023-04-24T17:48:50.253135Z"
    }
   },
   "outputs": [],
   "source": [
    "# Pandas 是居于NumPy的一种工具，该工具是为了解决数据分析任务二创建的，Pandas 纳入了大量库和一些标准数据模型，提供了搞笑的操作大型数据集所需要的工具，pandas提供了大量能是我们快捷的处理数据的函数和方法"
   ]
  },
  {
   "cell_type": "code",
   "execution_count": null,
   "outputs": [],
   "source": [
    "# DataFrame\n",
    "\n",
    "import numpy as np\n",
    "import pandas as pd\n",
    "from pandas import Series, DataFrame\n",
    "\n",
    "df1 = DataFrame(np.random.randint(0,10,(4,4)),index=[1,2,3,4],columns=[1,2,3,4])\n",
    "print(df1)\n",
    "\n",
    "dict1 = {\n",
    "    'province':['guangdong','beijing','qingdao','shanghai'],\n",
    "    'pop':[1.3,3.5,4.1,2.1],\n",
    "    'year':[2018,2018,2018,2018]\n",
    "}\n",
    "\n",
    "df2 = pd.DataFrame(dict1)\n",
    "print(df2)\n",
    "\n",
    "# df\n",
    "df1.to_dict(orient=\"list\")\n"
   ],
   "metadata": {
    "collapsed": false,
    "ExecuteTime": {
     "start_time": "2023-04-24T18:04:19.710597Z",
     "end_time": "2023-04-24T18:04:19.740798Z"
    }
   }
  },
  {
   "cell_type": "code",
   "execution_count": null,
   "outputs": [],
   "source": [
    "import numpy as np\n",
    "import pandas as pd\n",
    "from pandas import Series, DataFrame\n",
    "dict1 = {\n",
    "    'province':['guangdong','beijing','qingdao','shanghai'],\n",
    "    'pop':[1.3,3.5,4.1,2.1],\n",
    "    'year':[2018,2018,2018,2018]\n",
    "}\n",
    "\n",
    "df2 = pd.DataFrame(dict1)\n",
    "\n",
    "series = df2['province']\n",
    "print(series)\n",
    "\n",
    "sel = Series([1,2,3,4],index=['a','b','c','d'])\n",
    "print(sel)\n",
    "\n",
    "\n"
   ],
   "metadata": {
    "collapsed": false,
    "ExecuteTime": {
     "start_time": "2023-04-26T18:12:52.690747Z",
     "end_time": "2023-04-26T18:12:52.699093Z"
    }
   }
  },
  {
   "cell_type": "markdown",
   "source": [],
   "metadata": {
    "collapsed": false
   }
  },
  {
   "cell_type": "code",
   "execution_count": null,
   "outputs": [],
   "source": [
    "import pandas as pd\n",
    "df = pd.read_csv('./df.csv')\n",
    "\n",
    "\n",
    "se = df['moveId']\n",
    "print(se)\n",
    "# se.index.tolist()\n",
    "\n",
    "se.index = list('abcdefg')\n",
    "se\n",
    "\n",
    "se.reindex(['g','f','e','d','c','b','a','z'])\n",
    "\n",
    "print(se.isna)"
   ],
   "metadata": {
    "collapsed": false,
    "ExecuteTime": {
     "start_time": "2023-04-26T21:45:16.824156Z",
     "end_time": "2023-04-26T21:45:16.839350Z"
    }
   }
  },
  {
   "cell_type": "code",
   "execution_count": null,
   "outputs": [],
   "source": [
    "import pandas as pd\n",
    "import numpy as np\n",
    "s1 = pd.Series([1,2,3,4,5])\n",
    "s2 = pd.Series([2,3,4])\n",
    "\n",
    "print(s2-s1)\n",
    "\n",
    "s3 = pd.Series(data=[1,3,4,5],index=list('abcd'))\n",
    "\n",
    "s3[s3>3]\n",
    "\n",
    "\n",
    "np.mean"
   ],
   "metadata": {
    "collapsed": false,
    "ExecuteTime": {
     "start_time": "2023-04-27T07:05:55.954803Z",
     "end_time": "2023-04-27T07:05:55.984064Z"
    }
   }
  },
  {
   "cell_type": "code",
   "execution_count": null,
   "outputs": [],
   "source": [
    "import numpy as np\n",
    "import pandas as pd\n",
    "\n",
    "df = pd.read_csv('./df.csv')\n",
    "df\n",
    "\n",
    "print(df.shape)\n",
    "\n",
    "print(df.index.tolist())\n",
    "\n",
    "print(df.ndim)\n",
    "\n",
    "print(df.values)\n",
    "\n",
    "print(df.info())\n",
    "\n",
    "print(df.head())\n",
    "\n",
    "print(df.tail(2))\n"
   ],
   "metadata": {
    "collapsed": false,
    "ExecuteTime": {
     "start_time": "2023-04-27T07:11:16.989821Z",
     "end_time": "2023-04-27T07:11:17.006456Z"
    }
   }
  },
  {
   "cell_type": "code",
   "execution_count": null,
   "outputs": [],
   "source": [
    "import pandas as pd\n",
    "\n",
    "df = pd.read_csv('./df.csv')\n",
    "print(df)\n",
    "\n",
    "# 获取一列数据\n",
    "# print(df['userId'])\n",
    "# df['rating']\n",
    "# print(df[['userId']])\n",
    "\n",
    "\n",
    "# 获取行数据 可以使用切片，可以使用bool列表\n",
    "df.index = list('abcdefg')\n",
    "df[:'b']\n",
    "\n",
    "\n",
    "#将评分大于5的数据\n",
    "df[[i > 5 for i in df['rating']]]\n",
    "\n",
    "print(df.loc['a',['moveId','rating']])\n",
    "print(df.loc[df['rating']==4,'moveId'])\n",
    "\n",
    "df.iloc[[0,1,3],:]"
   ],
   "metadata": {
    "collapsed": false,
    "ExecuteTime": {
     "start_time": "2023-04-27T07:38:19.109972Z",
     "end_time": "2023-04-27T07:38:19.127426Z"
    }
   }
  },
  {
   "cell_type": "code",
   "execution_count": 77,
   "outputs": [
    {
     "name": "stdout",
     "output_type": "stream",
     "text": [
      "    a  b  c\n",
      "bj  0  1  2\n",
      "sh  3  4  5\n",
      "gz  6  7  8\n"
     ]
    },
    {
     "data": {
      "text/plain": "    a  b_kkb  c\nbj  0      1  2\nsh  3      4  5\ngz  6      7  8",
      "text/html": "<div>\n<style scoped>\n    .dataframe tbody tr th:only-of-type {\n        vertical-align: middle;\n    }\n\n    .dataframe tbody tr th {\n        vertical-align: top;\n    }\n\n    .dataframe thead th {\n        text-align: right;\n    }\n</style>\n<table border=\"1\" class=\"dataframe\">\n  <thead>\n    <tr style=\"text-align: right;\">\n      <th></th>\n      <th>a</th>\n      <th>b_kkb</th>\n      <th>c</th>\n    </tr>\n  </thead>\n  <tbody>\n    <tr>\n      <th>bj</th>\n      <td>0</td>\n      <td>1</td>\n      <td>2</td>\n    </tr>\n    <tr>\n      <th>sh</th>\n      <td>3</td>\n      <td>4</td>\n      <td>5</td>\n    </tr>\n    <tr>\n      <th>gz</th>\n      <td>6</td>\n      <td>7</td>\n      <td>8</td>\n    </tr>\n  </tbody>\n</table>\n</div>"
     },
     "execution_count": 77,
     "metadata": {},
     "output_type": "execute_result"
    }
   ],
   "source": [
    "import pandas as pd\n",
    "import numpy as np\n",
    "df1 = pd.DataFrame(np.arange(9).reshape(3,3),index=['bj','sh','gz'],columns=['a','b','c'])\n",
    "print(df1)\n",
    "\n",
    "def test_map(x):\n",
    "    if 'b' in x:\n",
    "        return x + '_kkb'\n",
    "    return x\n",
    "df1.rename(columns=test_map)\n"
   ],
   "metadata": {
    "collapsed": false,
    "ExecuteTime": {
     "start_time": "2023-04-27T07:50:24.976680Z",
     "end_time": "2023-04-27T07:50:24.986773Z"
    }
   }
  },
  {
   "cell_type": "code",
   "execution_count": null,
   "outputs": [],
   "source": [],
   "metadata": {
    "collapsed": false
   }
  }
 ],
 "metadata": {
  "kernelspec": {
   "display_name": "Python 3",
   "language": "python",
   "name": "python3"
  },
  "language_info": {
   "codemirror_mode": {
    "name": "ipython",
    "version": 2
   },
   "file_extension": ".py",
   "mimetype": "text/x-python",
   "name": "python",
   "nbconvert_exporter": "python",
   "pygments_lexer": "ipython2",
   "version": "2.7.6"
  }
 },
 "nbformat": 4,
 "nbformat_minor": 0
}
