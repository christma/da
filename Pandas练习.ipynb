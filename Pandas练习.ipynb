{
 "cells": [
  {
   "cell_type": "code",
   "execution_count": 1,
   "metadata": {
    "collapsed": true,
    "ExecuteTime": {
     "start_time": "2023-04-24T17:48:50.248348Z",
     "end_time": "2023-04-24T17:48:50.253135Z"
    }
   },
   "outputs": [],
   "source": [
    "# Pandas 是居于NumPy的一种工具，该工具是为了解决数据分析任务二创建的，Pandas 纳入了大量库和一些标准数据模型，提供了搞笑的操作大型数据集所需要的工具，pandas提供了大量能是我们快捷的处理数据的函数和方法"
   ]
  },
  {
   "cell_type": "code",
   "execution_count": 13,
   "outputs": [
    {
     "name": "stdout",
     "output_type": "stream",
     "text": [
      "   1  2  3  4\n",
      "1  2  1  4  8\n",
      "2  4  3  8  9\n",
      "3  2  0  5  9\n",
      "4  5  8  5  9\n",
      "    province  pop  year\n",
      "0  guangdong  1.3  2018\n",
      "1    beijing  3.5  2018\n",
      "2    qingdao  4.1  2018\n",
      "3   shanghai  2.1  2018\n"
     ]
    },
    {
     "data": {
      "text/plain": "{1: [2, 4, 2, 5], 2: [1, 3, 0, 8], 3: [4, 8, 5, 5], 4: [8, 9, 9, 9]}"
     },
     "execution_count": 13,
     "metadata": {},
     "output_type": "execute_result"
    }
   ],
   "source": [
    "# DataFrame\n",
    "\n",
    "import numpy as np\n",
    "import pandas as pd\n",
    "from pandas import Series, DataFrame\n",
    "\n",
    "df1 = DataFrame(np.random.randint(0,10,(4,4)),index=[1,2,3,4],columns=[1,2,3,4])\n",
    "print(df1)\n",
    "\n",
    "dict1 = {\n",
    "    'province':['guangdong','beijing','qingdao','shanghai'],\n",
    "    'pop':[1.3,3.5,4.1,2.1],\n",
    "    'year':[2018,2018,2018,2018]\n",
    "}\n",
    "\n",
    "df2 = pd.DataFrame(dict1)\n",
    "print(df2)\n",
    "\n",
    "# df\n",
    "df1.to_dict(orient=\"list\")\n"
   ],
   "metadata": {
    "collapsed": false,
    "ExecuteTime": {
     "start_time": "2023-04-24T18:04:19.710597Z",
     "end_time": "2023-04-24T18:04:19.740798Z"
    }
   }
  },
  {
   "cell_type": "code",
   "execution_count": 9,
   "outputs": [],
   "source": [],
   "metadata": {
    "collapsed": false,
    "ExecuteTime": {
     "start_time": "2023-04-24T18:01:37.418332Z",
     "end_time": "2023-04-24T18:01:37.427685Z"
    }
   }
  }
 ],
 "metadata": {
  "kernelspec": {
   "display_name": "Python 3",
   "language": "python",
   "name": "python3"
  },
  "language_info": {
   "codemirror_mode": {
    "name": "ipython",
    "version": 2
   },
   "file_extension": ".py",
   "mimetype": "text/x-python",
   "name": "python",
   "nbconvert_exporter": "python",
   "pygments_lexer": "ipython2",
   "version": "2.7.6"
  }
 },
 "nbformat": 4,
 "nbformat_minor": 0
}
