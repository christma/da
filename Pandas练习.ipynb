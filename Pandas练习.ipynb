{
 "cells": [
  {
   "cell_type": "code",
   "execution_count": null,
   "metadata": {
    "collapsed": true,
    "ExecuteTime": {
     "start_time": "2023-04-24T17:48:50.248348Z",
     "end_time": "2023-04-24T17:48:50.253135Z"
    }
   },
   "outputs": [],
   "source": [
    "# Pandas 是居于NumPy的一种工具，该工具是为了解决数据分析任务二创建的，Pandas 纳入了大量库和一些标准数据模型，提供了搞笑的操作大型数据集所需要的工具，pandas提供了大量能是我们快捷的处理数据的函数和方法"
   ]
  },
  {
   "cell_type": "code",
   "execution_count": null,
   "outputs": [],
   "source": [
    "# DataFrame\n",
    "\n",
    "import numpy as np\n",
    "import pandas as pd\n",
    "from pandas import Series, DataFrame\n",
    "\n",
    "df1 = DataFrame(np.random.randint(0,10,(4,4)),index=[1,2,3,4],columns=[1,2,3,4])\n",
    "print(df1)\n",
    "\n",
    "dict1 = {\n",
    "    'province':['guangdong','beijing','qingdao','shanghai'],\n",
    "    'pop':[1.3,3.5,4.1,2.1],\n",
    "    'year':[2018,2018,2018,2018]\n",
    "}\n",
    "\n",
    "df2 = pd.DataFrame(dict1)\n",
    "print(df2)\n",
    "\n",
    "# df\n",
    "df1.to_dict(orient=\"list\")\n"
   ],
   "metadata": {
    "collapsed": false,
    "ExecuteTime": {
     "start_time": "2023-04-24T18:04:19.710597Z",
     "end_time": "2023-04-24T18:04:19.740798Z"
    }
   }
  },
  {
   "cell_type": "code",
   "execution_count": null,
   "outputs": [],
   "source": [
    "import numpy as np\n",
    "import pandas as pd\n",
    "from pandas import Series, DataFrame\n",
    "dict1 = {\n",
    "    'province':['guangdong','beijing','qingdao','shanghai'],\n",
    "    'pop':[1.3,3.5,4.1,2.1],\n",
    "    'year':[2018,2018,2018,2018]\n",
    "}\n",
    "\n",
    "df2 = pd.DataFrame(dict1)\n",
    "\n",
    "series = df2['province']\n",
    "print(series)\n",
    "\n",
    "sel = Series([1,2,3,4],index=['a','b','c','d'])\n",
    "print(sel)\n",
    "\n",
    "\n"
   ],
   "metadata": {
    "collapsed": false,
    "ExecuteTime": {
     "start_time": "2023-04-26T18:12:52.690747Z",
     "end_time": "2023-04-26T18:12:52.699093Z"
    }
   }
  },
  {
   "cell_type": "markdown",
   "source": [],
   "metadata": {
    "collapsed": false
   }
  },
  {
   "cell_type": "code",
   "execution_count": null,
   "outputs": [],
   "source": [
    "import pandas as pd\n",
    "df = pd.read_csv('./df.csv')\n",
    "\n",
    "\n",
    "se = df['moveId']\n",
    "print(se)\n",
    "# se.index.tolist()\n",
    "\n",
    "se.index = list('abcdefg')\n",
    "se\n",
    "\n",
    "se.reindex(['g','f','e','d','c','b','a','z'])\n",
    "\n",
    "print(se.isna)"
   ],
   "metadata": {
    "collapsed": false,
    "ExecuteTime": {
     "start_time": "2023-04-26T21:45:16.824156Z",
     "end_time": "2023-04-26T21:45:16.839350Z"
    }
   }
  },
  {
   "cell_type": "code",
   "execution_count": null,
   "outputs": [],
   "source": [
    "import pandas as pd\n",
    "import numpy as np\n",
    "s1 = pd.Series([1,2,3,4,5])\n",
    "s2 = pd.Series([2,3,4])\n",
    "\n",
    "print(s2-s1)\n",
    "\n",
    "s3 = pd.Series(data=[1,3,4,5],index=list('abcd'))\n",
    "\n",
    "s3[s3>3]\n",
    "\n",
    "\n",
    "np.mean"
   ],
   "metadata": {
    "collapsed": false,
    "ExecuteTime": {
     "start_time": "2023-04-27T07:05:55.954803Z",
     "end_time": "2023-04-27T07:05:55.984064Z"
    }
   }
  },
  {
   "cell_type": "code",
   "execution_count": null,
   "outputs": [],
   "source": [
    "import numpy as np\n",
    "import pandas as pd\n",
    "\n",
    "df = pd.read_csv('./df.csv')\n",
    "df\n",
    "\n",
    "print(df.shape)\n",
    "\n",
    "print(df.index.tolist())\n",
    "\n",
    "print(df.ndim)\n",
    "\n",
    "print(df.values)\n",
    "\n",
    "print(df.info())\n",
    "\n",
    "print(df.head())\n",
    "\n",
    "print(df.tail(2))\n"
   ],
   "metadata": {
    "collapsed": false,
    "ExecuteTime": {
     "start_time": "2023-04-27T07:11:16.989821Z",
     "end_time": "2023-04-27T07:11:17.006456Z"
    }
   }
  },
  {
   "cell_type": "code",
   "execution_count": null,
   "outputs": [],
   "source": [
    "import pandas as pd\n",
    "\n",
    "df = pd.read_csv('./df.csv')\n",
    "print(df)\n",
    "\n",
    "# 获取一列数据\n",
    "# print(df['userId'])\n",
    "# df['rating']\n",
    "# print(df[['userId']])\n",
    "\n",
    "\n",
    "# 获取行数据 可以使用切片，可以使用bool列表\n",
    "df.index = list('abcdefg')\n",
    "df[:'b']\n",
    "\n",
    "\n",
    "#将评分大于5的数据\n",
    "df[[i > 5 for i in df['rating']]]\n",
    "\n",
    "print(df.loc['a',['moveId','rating']])\n",
    "print(df.loc[df['rating']==4,'moveId'])\n",
    "\n",
    "df.iloc[[0,1,3],:]"
   ],
   "metadata": {
    "collapsed": false,
    "ExecuteTime": {
     "start_time": "2023-04-27T07:38:19.109972Z",
     "end_time": "2023-04-27T07:38:19.127426Z"
    }
   }
  },
  {
   "cell_type": "code",
   "execution_count": null,
   "outputs": [],
   "source": [
    "import pandas as pd\n",
    "import numpy as np\n",
    "df1 = pd.DataFrame(np.arange(9).reshape(3,3),index=['bj','sh','gz'],columns=['a','b','c'])\n",
    "print(df1)\n",
    "\n",
    "def test_map(x):\n",
    "    if 'b' in x:\n",
    "        return x + '_kkb'\n",
    "    return x\n",
    "df1.rename(columns=test_map)\n"
   ],
   "metadata": {
    "collapsed": false,
    "ExecuteTime": {
     "start_time": "2023-04-27T07:50:24.976680Z",
     "end_time": "2023-04-27T07:50:24.986773Z"
    }
   }
  },
  {
   "cell_type": "code",
   "execution_count": null,
   "outputs": [],
   "source": [
    "import pandas as pd\n",
    "import numpy as np\n",
    "\n",
    "df1 = pd.DataFrame([['Sonw','M',22],['Tyrion','M',32],['Sansa','F',18],['Arya','F',14]],columns=['name','gender','age'])\n",
    "\n",
    "df1['sorce']=[80,98,67,90]\n",
    "\n",
    "col_name = df1.columns.tolist()\n",
    "\n",
    "\n",
    "col_name.insert(2,'city')\n",
    "\n",
    "df1 = df1.reindex(columns=col_name)\n",
    "\n",
    "print(df1)\n",
    "\n",
    "df1['city']=['北京','山西','湖北','澳门']\n",
    "\n",
    "print(df1)"
   ],
   "metadata": {
    "collapsed": false,
    "ExecuteTime": {
     "start_time": "2023-04-27T15:11:51.001330Z",
     "end_time": "2023-04-27T15:11:51.031781Z"
    }
   }
  },
  {
   "cell_type": "code",
   "execution_count": null,
   "outputs": [],
   "source": [
    "import pandas as pd\n",
    "import numpy as py\n",
    "\n",
    "d1 = pd.DataFrame(np.arange(6).reshape(3,2),columns=['four','five'])\n",
    "d2 = pd.DataFrame(np.arange(6).reshape(2,3),columns=['one','two','three'])\n",
    "\n",
    "res = pd.concat([d1,d2],axis=1)\n",
    "print(res)\n",
    "pd.concat([d1,d2],axis=0,ignore_index=True)"
   ],
   "metadata": {
    "collapsed": false,
    "ExecuteTime": {
     "start_time": "2023-04-27T15:23:15.400735Z",
     "end_time": "2023-04-27T15:23:15.407962Z"
    }
   }
  },
  {
   "cell_type": "code",
   "execution_count": null,
   "outputs": [],
   "source": [
    "# 数据处理\n",
    "import numpy as np\n",
    "import pandas as pd\n",
    "\n",
    "se = pd.Series([4,np.nan,8,np.nan,5])\n",
    "print(se)\n",
    "print(se.dropna())\n",
    "print(se.notnull())\n",
    "print(se.isnull())\n",
    "\n",
    "print(se[se.notnull()])"
   ],
   "metadata": {
    "collapsed": false,
    "ExecuteTime": {
     "start_time": "2023-04-27T15:33:42.991982Z",
     "end_time": "2023-04-27T15:33:43.000887Z"
    }
   }
  },
  {
   "cell_type": "code",
   "execution_count": null,
   "outputs": [],
   "source": [
    "import numpy as np\n",
    "import pandas as pd\n",
    "from numpy import nan as NaN\n",
    "\n",
    "df1 = pd.DataFrame([[1,2,3],[NaN,NaN,2],[NaN,NaN,NaN],[8,8,NaN]])\n",
    "print(df1)\n",
    "print('-'*20)\n",
    "# 过滤所有的NAN\n",
    "# print(df1.dropna())\n",
    "# 传入how='all' 过滤全部为NAN的行\n",
    "# print(df1.dropna(how='all'))\n",
    "#传入axis=1 滤除列\n",
    "# print(df1.dropna(axis=1,how='all'))\n",
    "# 传入 thresh=n 保留至少有n个非NAN数据的行\n",
    "# print(df1.dropna(thresh=1))\n",
    "\n",
    "\n",
    "\n",
    "# 填充数据\n",
    "\n",
    "#用常数填充\n",
    "#print(df1.fillna(0))\n",
    "#传入inplace=True直接修改原对象\n",
    "# df1.fillna(0,inplace=True)\n",
    "# print(df1)\n",
    "#通过字典填充不同常数\n",
    "# df1.fillna({0:10,1:20,2:30})\n",
    "#填充平均值\n",
    "# df1.fillna(df1.mean())\n",
    "#如果值填充一列\n",
    "# df1.iloc[:,1].fillna(5,inplace=True)\n",
    "# df1\n",
    "#传入method=‘’改变插值凡事\n",
    "\n",
    "df2 = pd.DataFrame(np.random.randint(0,10,(5,5)))\n",
    "# print(df2)\n",
    "\n",
    "df2.iloc[1:4,3]=NaN\n",
    "# print(df2)\n",
    "df2.iloc[2:4,4]=NaN\n",
    "print(df2)\n",
    "\n",
    "#用前面的值填充ffill 用后面的值填充bffill\n",
    "#df2.fillna(method='ffill')\n",
    "#传入limit‘’ 修改填充行数\n",
    "# df2.fillna(method='bfill',limit=1)\n",
    "\n",
    "#传入axis=‘’ 填充方向\n",
    "df2.fillna(method='ffill',limit=1,axis=1)\n",
    "\n",
    "\n"
   ],
   "metadata": {
    "collapsed": false,
    "ExecuteTime": {
     "start_time": "2023-04-27T16:21:23.316994Z",
     "end_time": "2023-04-27T16:21:23.340062Z"
    }
   }
  },
  {
   "cell_type": "code",
   "execution_count": 39,
   "outputs": [
    {
     "name": "stdout",
     "output_type": "stream",
     "text": [
      "             日期 最高温度  最低温度    天气   风向  风级  空气质量\n",
      "0      2019/1/1   1℃  -10℃  晴~多云  西北风  1级     良\n",
      "1      2019/1/2   1℃   -9℃    多云  东北风  1级     良\n",
      "2      2019/1/3   2℃   -7℃     霾  东北风  1级  中度污染\n",
      "3      2019/1/4   2℃   -7℃     晴  西北风  2级     优\n",
      "4      2019/1/5   0℃   -8℃    多云  东北风  2级     优\n",
      "..          ...  ...   ...   ...  ...  ..   ...\n",
      "360  2019/12/27   4℃   -6℃     晴  东北风  1级     良\n",
      "361  2019/12/28   3℃   -7℃  晴~多云  东北风  1级     良\n",
      "362  2019/12/29   5℃   -7℃  多云~晴  西北风  3级  轻度污染\n",
      "363  2019/12/30  -5℃  -12℃     晴  西北风  4级     优\n",
      "364  2019/12/31  -3℃  -10℃     晴  西北风  1级     优\n",
      "\n",
      "[365 rows x 7 columns]\n",
      "         最高温度 最低温度    天气   风向  风级 空气质量\n",
      "日期                                    \n",
      "2019/9/1  33℃  19℃  多云~晴  西南风  2级    良\n",
      "2019/9/2  34℃  20℃     晴   南风  2级    良\n",
      "2019/9/3  33℃  20℃     晴  东南风  2级    良\n",
      "2019/9/7  34℃  21℃     晴  西南风  2级    良\n",
      "2019/9/8  35℃  22℃  晴~多云  东北风  2级    良\n",
      "           日期 最高温度 最低温度    天气   风向  风级 空气质量\n",
      "243  2019/9/4  32℃  19℃     晴  东南风  2级    良\n",
      "244  2019/9/5  33℃  20℃     晴  东南风  2级    良\n",
      "245  2019/9/6  33℃  20℃     晴  东南风  1级    良\n",
      "246  2019/9/1  33℃  19℃  多云~晴  西南风  2级    良\n",
      "247  2019/9/2  34℃  20℃     晴   南风  2级    良\n"
     ]
    }
   ],
   "source": [
    "import pandas as pd\n",
    "import numpy as np\n",
    "\n",
    "\n",
    "\n",
    "df = pd.read_csv(\"./BJ_tianqi.csv\")\n",
    "print(df)\n",
    "res1 = df.set_index('日期')\n",
    "print(res1['2019/9/1':'2019/9/30'].head())\n",
    "\n",
    "print(df[df['日期'].str.startswith('2019/9')].head())"
   ],
   "metadata": {
    "collapsed": false,
    "ExecuteTime": {
     "start_time": "2023-05-05T22:41:59.016089Z",
     "end_time": "2023-05-05T22:41:59.036562Z"
    }
   }
  },
  {
   "cell_type": "code",
   "execution_count": null,
   "outputs": [],
   "source": [],
   "metadata": {
    "collapsed": false
   }
  }
 ],
 "metadata": {
  "kernelspec": {
   "display_name": "Python 3",
   "language": "python",
   "name": "python3"
  },
  "language_info": {
   "codemirror_mode": {
    "name": "ipython",
    "version": 2
   },
   "file_extension": ".py",
   "mimetype": "text/x-python",
   "name": "python",
   "nbconvert_exporter": "python",
   "pygments_lexer": "ipython2",
   "version": "2.7.6"
  }
 },
 "nbformat": 4,
 "nbformat_minor": 0
}
