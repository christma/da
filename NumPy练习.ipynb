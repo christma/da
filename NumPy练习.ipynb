{
 "cells": [
  {
   "cell_type": "code",
   "execution_count": null,
   "id": "53cb906f",
   "metadata": {},
   "outputs": [],
   "source": [
    "import numpy as np\n",
    "\n",
    "l1 = [1, 2, 3, 4]\n",
    "oneArray = np.array(l1)\n",
    "print(type(oneArray))\n",
    "print(oneArray)\n",
    "print(oneArray.shape)"
   ]
  },
  {
   "cell_type": "code",
   "execution_count": null,
   "id": "6b27cfaa",
   "metadata": {
    "ExecuteTime": {
     "start_time": "2023-04-22T16:33:06.315922Z",
     "end_time": "2023-04-22T16:33:06.322579Z"
    }
   },
   "outputs": [],
   "source": [
    "import numpy as np\n",
    "\n",
    "l2 = [[1, 2], [2, 3], [3, 4]]\n",
    "t = np.array(l2)\n",
    "\n",
    "# print(t)\n",
    "# print(t.shape)\n",
    "print(t.size)"
   ]
  },
  {
   "cell_type": "code",
   "execution_count": null,
   "id": "ceddf106",
   "metadata": {
    "ExecuteTime": {
     "start_time": "2023-04-22T16:50:48.308738Z",
     "end_time": "2023-04-22T16:50:48.318732Z"
    }
   },
   "outputs": [],
   "source": [
    "# 调整数组的形状\n",
    "import numpy as np\n",
    "\n",
    "n = np.array([[1, 2, 3, 5], [4, 5, 6, 6]])\n",
    "print(n)\n",
    "# 改变原数据\n",
    "# n.shape = (4,2)\n",
    "# 不改变原数据\n",
    "# new = n.reshape(2,4)\n",
    "# print(n)\n",
    "\n",
    "# 将多维 变成 一维\n",
    "\n",
    "five = n.reshape((8,), order='F')\n",
    "print(five)\n",
    "\n",
    "t = np.arange(24)\n",
    "t1 = t.reshape(4, 6)\n",
    "print(t1)\n",
    "\n",
    "\n",
    "\n"
   ]
  },
  {
   "cell_type": "code",
   "execution_count": null,
   "outputs": [],
   "source": [
    "# 数组 转 list\n",
    "\n",
    "import numpy as np\n",
    "\n",
    "n = np.array([1, 2, 3, 4, 5, 6])\n",
    "\n",
    "list_n = n.tolist()\n",
    "print(list_n)\n",
    "print(type(list_n))"
   ],
   "metadata": {
    "collapsed": false,
    "ExecuteTime": {
     "start_time": "2023-04-22T16:50:29.165068Z",
     "end_time": "2023-04-22T16:50:29.174124Z"
    }
   }
  },
  {
   "cell_type": "code",
   "execution_count": null,
   "outputs": [],
   "source": [
    "# 一维数组切片\n",
    "import numpy as np\n",
    "\n",
    "n = np.arange(10)\n",
    "print(n)\n",
    "\n",
    "print(n[::2])\n",
    "\n",
    "print(n[2], n)"
   ],
   "metadata": {
    "collapsed": false,
    "ExecuteTime": {
     "start_time": "2023-04-22T16:56:06.962405Z",
     "end_time": "2023-04-22T16:56:06.970270Z"
    }
   }
  },
  {
   "cell_type": "code",
   "execution_count": null,
   "outputs": [],
   "source": [
    "# 二维数组切片\n",
    "import numpy as np\n",
    "\n",
    "n = np.arange(24).reshape(4, 6)\n",
    "print(n)\n",
    "print('-' * 20)\n",
    "#\n",
    "# print(n[0])\n",
    "# print(n[0,])\n",
    "# print('-'*20)\n",
    "#\n",
    "# print(n[1:])\n",
    "# print(n[1:3,:])\n",
    "#\n",
    "# print('-'*20)\n",
    "#\n",
    "# print(n[[0,2,3]])\n",
    "\n",
    "print(n[:, 1])\n",
    "\n",
    "print(n[:, 1:])\n",
    "\n",
    "print(n[:, [0, 2, 3, 5]])\n",
    "\n",
    "print(n[2, 3])\n",
    "\n",
    "print(n[[0, 1, 1], [0, 1, 3]])\n"
   ],
   "metadata": {
    "collapsed": false,
    "ExecuteTime": {
     "start_time": "2023-04-22T17:06:25.521530Z",
     "end_time": "2023-04-22T17:06:25.531205Z"
    }
   }
  },
  {
   "cell_type": "code",
   "execution_count": null,
   "outputs": [],
   "source": [
    "import numpy as np\n",
    "\n",
    "score = np.array([[90, 88], [82, 83], [78, 89]])\n",
    "print(score)\n",
    "\n",
    "res = np.where(score > 80, 1, 0)\n",
    "\n",
    "print(res)\n"
   ],
   "metadata": {
    "collapsed": false,
    "ExecuteTime": {
     "start_time": "2023-04-22T17:14:17.083661Z",
     "end_time": "2023-04-22T17:14:17.087959Z"
    }
   }
  },
  {
   "cell_type": "code",
   "execution_count": null,
   "outputs": [],
   "source": [
    "# 轴\n",
    "# 使用 0 1 2 数字表示\n",
    "\n",
    "import numpy as np\n",
    "\n",
    "n = np.array([[1,2,3],[4,5,6]])\n",
    "print(n)\n",
    "print(np.sum(n))\n",
    "print(np.sum(n, axis=0))\n",
    "print(np.sum(n, axis=1))\n",
    "\n",
    "\n",
    "np.arange(27).reshape((3,3,3))"
   ],
   "metadata": {
    "collapsed": false,
    "ExecuteTime": {
     "start_time": "2023-04-22T17:30:12.853387Z",
     "end_time": "2023-04-22T17:30:12.864156Z"
    }
   }
  },
  {
   "cell_type": "code",
   "execution_count": null,
   "outputs": [],
   "source": [
    "# 数组计算\n",
    "import numpy as np\n",
    "\n",
    "n = np.arange(24).reshape((6,4))\n",
    "print(n)\n",
    "print(n+2)\n",
    "print(n*2)\n"
   ],
   "metadata": {
    "collapsed": false,
    "ExecuteTime": {
     "start_time": "2023-04-22T17:30:54.154676Z",
     "end_time": "2023-04-22T17:30:54.164817Z"
    }
   }
  },
  {
   "cell_type": "code",
   "execution_count": null,
   "outputs": [],
   "source": [
    "# 数组 NAN\n",
    "import numpy as np\n",
    "\n",
    "n = np.arange(24).reshape(6,4).astype('float')\n",
    "# print(n)\n",
    "n[3,3]=np.nan\n",
    "\n",
    "print(n)\n",
    "\n"
   ],
   "metadata": {
    "collapsed": false,
    "ExecuteTime": {
     "start_time": "2023-04-24T16:06:42.802298Z",
     "end_time": "2023-04-24T16:06:42.934472Z"
    }
   }
  },
  {
   "cell_type": "code",
   "execution_count": null,
   "outputs": [],
   "source": [
    "import numpy as np\n",
    "\n",
    "np.__version__"
   ],
   "metadata": {
    "collapsed": false,
    "ExecuteTime": {
     "start_time": "2023-04-23T12:45:30.893610Z",
     "end_time": "2023-04-23T12:45:30.901272Z"
    }
   }
  },
  {
   "cell_type": "code",
   "execution_count": null,
   "outputs": [],
   "source": [
    "# 练习 ： 处理数组中nan\n",
    "import numpy as np\n",
    "\n",
    "t = np.arange(24).reshape(4,6).astype('float')\n",
    "t[1,3:] = np.nan\n",
    "print(t)\n",
    "\n",
    "for i in range(t.shape[1]):\n",
    "    temp_col = t[:,i]\n",
    "    nan_num = np.count_nonzero(temp_col != temp_col)\n",
    "\n",
    "    if nan_num != 0:\n",
    "        temp_col_not_nan = temp_col[temp_col == temp_col]\n",
    "        temp_col[np.isnan(temp_col)] = np.mean(temp_col_not_nan)\n",
    "print(t)"
   ],
   "metadata": {
    "collapsed": false,
    "ExecuteTime": {
     "start_time": "2023-04-24T16:17:54.558810Z",
     "end_time": "2023-04-24T16:17:54.561927Z"
    }
   }
  },
  {
   "cell_type": "code",
   "execution_count": null,
   "outputs": [],
   "source": [],
   "metadata": {
    "collapsed": false
   }
  }
 ],
 "metadata": {
  "kernelspec": {
   "display_name": "Python 3 (ipykernel)",
   "language": "python",
   "name": "python3"
  },
  "language_info": {
   "codemirror_mode": {
    "name": "ipython",
    "version": 3
   },
   "file_extension": ".py",
   "mimetype": "text/x-python",
   "name": "python",
   "nbconvert_exporter": "python",
   "pygments_lexer": "ipython3",
   "version": "3.10.9"
  }
 },
 "nbformat": 4,
 "nbformat_minor": 5
}
