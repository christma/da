{
 "cells": [
  {
   "cell_type": "code",
   "execution_count": 2,
   "id": "c7bf30db",
   "metadata": {},
   "outputs": [],
   "source": [
    "# 3、变量的命名规则"
   ]
  },
  {
   "cell_type": "code",
   "execution_count": 3,
   "id": "220f57d5",
   "metadata": {},
   "outputs": [],
   "source": [
    "# 4、关键字"
   ]
  },
  {
   "cell_type": "code",
   "execution_count": 4,
   "id": "609303c4",
   "metadata": {},
   "outputs": [],
   "source": [
    "# 5、数据类型"
   ]
  },
  {
   "cell_type": "code",
   "execution_count": 9,
   "id": "c8cf2e79",
   "metadata": {},
   "outputs": [
    {
     "name": "stdout",
     "output_type": "stream",
     "text": [
      "1010\n"
     ]
    }
   ],
   "source": [
    "# 6、类型转化\n",
    "num1 = 10\n",
    "num2 = \"10\"\n",
    "\n",
    "num3 = str(num1) + num2\n",
    "print(num3)"
   ]
  },
  {
   "cell_type": "code",
   "execution_count": 13,
   "id": "beb53a44",
   "metadata": {},
   "outputs": [
    {
     "name": "stdout",
     "output_type": "stream",
     "text": [
      "abc,def\n"
     ]
    }
   ],
   "source": [
    "# 7、输出和输入\n",
    "\n",
    "str1 = 'abc'\n",
    "str2 = 'def'\n",
    "print(str1,str2,sep=',')"
   ]
  },
  {
   "cell_type": "code",
   "execution_count": 11,
   "id": "d4ca8d64",
   "metadata": {},
   "outputs": [],
   "source": [
    "# 8、格式化输出"
   ]
  },
  {
   "cell_type": "code",
   "execution_count": null,
   "id": "1cd5882f",
   "metadata": {},
   "outputs": [],
   "source": [
    "# 9、算数运算符（拓展）"
   ]
  }
 ],
 "metadata": {
  "kernelspec": {
   "display_name": "Python 3 (ipykernel)",
   "language": "python",
   "name": "python3"
  },
  "language_info": {
   "codemirror_mode": {
    "name": "ipython",
    "version": 3
   },
   "file_extension": ".py",
   "mimetype": "text/x-python",
   "name": "python",
   "nbconvert_exporter": "python",
   "pygments_lexer": "ipython3",
   "version": "3.10.9"
  }
 },
 "nbformat": 4,
 "nbformat_minor": 5
}
